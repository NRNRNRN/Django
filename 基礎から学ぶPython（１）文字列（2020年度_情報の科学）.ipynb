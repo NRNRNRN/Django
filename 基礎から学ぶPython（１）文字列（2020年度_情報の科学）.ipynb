{
  "nbformat": 4,
  "nbformat_minor": 0,
  "metadata": {
    "kernelspec": {
      "display_name": "Python 3",
      "language": "python",
      "name": "python3"
    },
    "language_info": {
      "codemirror_mode": {
        "name": "ipython",
        "version": 3
      },
      "file_extension": ".py",
      "mimetype": "text/x-python",
      "name": "python",
      "nbconvert_exporter": "python",
      "pygments_lexer": "ipython3",
      "version": "3.6.5"
    },
    "colab": {
      "name": "基礎から学ぶPython（１）文字列（2020年度 情報の科学）.ipynb のコピー",
      "provenance": [],
      "collapsed_sections": [],
      "include_colab_link": true
    }
  },
  "cells": [
    {
      "cell_type": "markdown",
      "metadata": {
        "id": "view-in-github",
        "colab_type": "text"
      },
      "source": [
        "<a href=\"https://colab.research.google.com/github/NRNRNRN/Django/blob/master/%E5%9F%BA%E7%A4%8E%E3%81%8B%E3%82%89%E5%AD%A6%E3%81%B6Python%EF%BC%88%EF%BC%91%EF%BC%89%E6%96%87%E5%AD%97%E5%88%97%EF%BC%882020%E5%B9%B4%E5%BA%A6_%E6%83%85%E5%A0%B1%E3%81%AE%E7%A7%91%E5%AD%A6%EF%BC%89.ipynb\" target=\"_parent\"><img src=\"https://colab.research.google.com/assets/colab-badge.svg\" alt=\"Open In Colab\"/></a>"
      ]
    },
    {
      "cell_type": "code",
      "metadata": {
        "id": "OtovGc2ICXw9"
      },
      "source": [
        ""
      ],
      "execution_count": null,
      "outputs": []
    },
    {
      "cell_type": "markdown",
      "metadata": {
        "id": "R1wiuJhp7w6E"
      },
      "source": [
        "#### 2020年度 情報の科学 プログラミング（Python）\n",
        "# 基礎から学ぶPython（１）文字列"
      ]
    },
    {
      "cell_type": "markdown",
      "metadata": {
        "id": "7WHnbWcP7w6F"
      },
      "source": [
        "### 学習内容   \n",
        "このセクションでは、Pythonで文字列の表示方法、メソッドの書き方、文字列の連結、分割、置換、大文字・小文字の変換、文字数のカウント方法を学びます。\n",
        "\n",
        "### 到達目標（CanDo）   \n",
        "1. 命令文printを使って文字列を表示できる。   \n",
        "2. メソッド（`method`）の書き方を理解できる。\n",
        "2. 文字列の連結（`join`）ができる。   \n",
        "3. 文字列の分割（`split`）ができる。   \n",
        "4. 文字列の置換（`replace`）ができる。\n",
        "5. 文字列を大文字（`upper`）、小文字（`lower`）に変換できる。\n",
        "6. 文字数のカウント（`len`）ができる\n",
        "---"
      ]
    },
    {
      "cell_type": "markdown",
      "metadata": {
        "id": "V6Hday_l7w6F"
      },
      "source": [
        "## 1. 文字列を表示する（print）"
      ]
    },
    {
      "cell_type": "markdown",
      "metadata": {
        "id": "pE37DRIA7w6H"
      },
      "source": [
        "文字を表示してみましょう。どんなプログラミング言語でも、まず文字列を表示する練習から始めます。**`print`**を使ってHello Worldと表示させましょう。最初にprintと入力し、丸カッコを入力します。文字列を入力する場合、文字列を**`シングルコーテーション`**で囲みます。\n",
        "  \n",
        "### 入力例   \n",
        "```python\n",
        "print('Hello World')\n",
        "```"
      ]
    },
    {
      "cell_type": "code",
      "metadata": {
        "id": "NLDYUHJi7w6I"
      },
      "source": [
        ""
      ],
      "execution_count": null,
      "outputs": []
    },
    {
      "cell_type": "markdown",
      "metadata": {
        "id": "GyyqKJE77w6L"
      },
      "source": [
        "printはカッコの内容を画面に表示させなさいという**`命令文`**です。今回はカッコ内の文字列はHello Worldだったので、プログラムを実行したらHello Worldと表示されました。"
      ]
    },
    {
      "cell_type": "markdown",
      "metadata": {
        "id": "de3PBgdDvKMK"
      },
      "source": [
        "<img width=\"40%\" src=\"https://storage.googleapis.com/python-practice/img/1-1.png\"> "
      ]
    },
    {
      "cell_type": "markdown",
      "metadata": {
        "id": "Ggw580Drjw0m"
      },
      "source": [
        "次に、数値を表示してみましょう。数値は文字列ではないので、シングルコーテーションで囲む必要はありません。"
      ]
    },
    {
      "cell_type": "markdown",
      "metadata": {
        "id": "8xnFnN3HkJTp"
      },
      "source": [
        "### 入力例   \n",
        "```python\n",
        "print(123)\n",
        "```"
      ]
    },
    {
      "cell_type": "code",
      "metadata": {
        "id": "qSROQkkAkK2I"
      },
      "source": [
        ""
      ],
      "execution_count": null,
      "outputs": []
    },
    {
      "cell_type": "markdown",
      "metadata": {
        "id": "OEr9tI3P7w6M"
      },
      "source": [
        "### 練習問題 1-1\n",
        "print文を使って、Hello Pythonと表示しなさい。"
      ]
    },
    {
      "cell_type": "code",
      "metadata": {
        "id": "-ytLwswK7w6M"
      },
      "source": [
        ""
      ],
      "execution_count": null,
      "outputs": []
    },
    {
      "cell_type": "markdown",
      "metadata": {
        "id": "DhBYTNlJ7w6P"
      },
      "source": [
        "### 練習問題 1-2\n",
        "printを使って、自分の名前をアルファベットで表示しなさい。"
      ]
    },
    {
      "cell_type": "code",
      "metadata": {
        "id": "_0IHMLdJ7w6P"
      },
      "source": [
        ""
      ],
      "execution_count": null,
      "outputs": []
    },
    {
      "cell_type": "markdown",
      "metadata": {
        "id": "T6g6XetT7w6S"
      },
      "source": [
        "### 練習問題 1-3\n",
        "printを使って、\"Good morning, everyone!\"と表示しなさい（ダブルコーテーション含む）。"
      ]
    },
    {
      "cell_type": "code",
      "metadata": {
        "id": "Cppk3ZLS7w6S"
      },
      "source": [
        ""
      ],
      "execution_count": null,
      "outputs": []
    },
    {
      "cell_type": "markdown",
      "metadata": {
        "id": "zRI2_OMK7w6V"
      },
      "source": [
        "### 練習問題 1-4\n",
        "\n",
        "以下のコードを実行するとエラーが表示されます。エラーの内容を確認しながら、正しく表示されるようにコードを直せるようになりましょう。   \n",
        "   \n",
        "下記のコードを実行してください。実行すると**`Syntax Error: invalid syntax`**と表示されました。**シンタックスエラー（Syntax Error）**とは**「文法が間違っている」＝「コードの記述が間違っている」**ということです。命令文printの文法をよくみて直しましょう。"
      ]
    },
    {
      "cell_type": "code",
      "metadata": {
        "id": "p0yHYGKF7w6W",
        "colab": {
          "base_uri": "https://localhost:8080/",
          "height": 135
        },
        "outputId": "d4b84be9-5310-418e-b248-97687680d9f4"
      },
      "source": [
        "print(Hello World)"
      ],
      "execution_count": null,
      "outputs": [
        {
          "output_type": "error",
          "ename": "SyntaxError",
          "evalue": "ignored",
          "traceback": [
            "\u001b[0;36m  File \u001b[0;32m\"<ipython-input-1-10cb182148e3>\"\u001b[0;36m, line \u001b[0;32m1\u001b[0m\n\u001b[0;31m    print(Hello World)\u001b[0m\n\u001b[0m                    ^\u001b[0m\n\u001b[0;31mSyntaxError\u001b[0m\u001b[0;31m:\u001b[0m invalid syntax\n"
          ]
        }
      ]
    },
    {
      "cell_type": "code",
      "metadata": {
        "id": "vs2zAXs47w6a",
        "colab": {
          "base_uri": "https://localhost:8080/",
          "height": 135
        },
        "outputId": "965b1704-83e2-45f0-e77d-d06268760922"
      },
      "source": [
        "print('Hello World\")"
      ],
      "execution_count": null,
      "outputs": [
        {
          "output_type": "error",
          "ename": "SyntaxError",
          "evalue": "ignored",
          "traceback": [
            "\u001b[0;36m  File \u001b[0;32m\"<ipython-input-2-91c08de83dce>\"\u001b[0;36m, line \u001b[0;32m1\u001b[0m\n\u001b[0;31m    print('Hello World\")\u001b[0m\n\u001b[0m                        ^\u001b[0m\n\u001b[0;31mSyntaxError\u001b[0m\u001b[0;31m:\u001b[0m EOL while scanning string literal\n"
          ]
        }
      ]
    },
    {
      "cell_type": "markdown",
      "metadata": {
        "id": "GdJWF-iLl5jG"
      },
      "source": [
        "他の代表的なエラーに、ネームエラーがあります。**name 'XXX' is not defined**と表示されます。命令文のスペルが間違っていたり、この後に学習する変数や関数が未定義の場合に表示されます。"
      ]
    },
    {
      "cell_type": "code",
      "metadata": {
        "id": "rVSM3O07mCMY",
        "colab": {
          "base_uri": "https://localhost:8080/",
          "height": 171
        },
        "outputId": "81489acb-647a-4e78-dcac-96b4b330d0d1"
      },
      "source": [
        "prnt('Hello World')"
      ],
      "execution_count": null,
      "outputs": [
        {
          "output_type": "error",
          "ename": "NameError",
          "evalue": "ignored",
          "traceback": [
            "\u001b[0;31m---------------------------------------------------------------------------\u001b[0m",
            "\u001b[0;31mNameError\u001b[0m                                 Traceback (most recent call last)",
            "\u001b[0;32m<ipython-input-3-56a719d18760>\u001b[0m in \u001b[0;36m<module>\u001b[0;34m()\u001b[0m\n\u001b[0;32m----> 1\u001b[0;31m \u001b[0mprnt\u001b[0m\u001b[0;34m(\u001b[0m\u001b[0;34m'Hello World'\u001b[0m\u001b[0;34m)\u001b[0m\u001b[0;34m\u001b[0m\u001b[0;34m\u001b[0m\u001b[0m\n\u001b[0m",
            "\u001b[0;31mNameError\u001b[0m: name 'prnt' is not defined"
          ]
        }
      ]
    },
    {
      "cell_type": "markdown",
      "metadata": {
        "id": "VnavxBNd7w6c"
      },
      "source": [
        "## 2. 文字列を連結する（join）"
      ]
    },
    {
      "cell_type": "markdown",
      "metadata": {
        "id": "za6IO3Mm7w6c"
      },
      "source": [
        "ある文字列と別の文字列を連結させて表示させることができます。例えば、Goodとmorningの２つの文字列が別々にあったとします。これを連結させてGood morningとしたい場合、**`join`**という機能を使います。さっそくやってみましょう。最初の文字列を入力した後、**`カンマ（comma）`**で区切り、2番目の文字列を入力します。"
      ]
    },
    {
      "cell_type": "markdown",
      "metadata": {
        "id": "Ksqh7Lfl7w6d"
      },
      "source": [
        "<img width=\"50%\" src=\"https://storage.googleapis.com/python-practice/img/1-2.png\"> "
      ]
    },
    {
      "cell_type": "markdown",
      "metadata": {
        "id": "70IcwVki7w6d"
      },
      "source": [
        "### 入力例   \n",
        "```python\n",
        "print('Good', 'morning')\n",
        "```"
      ]
    },
    {
      "cell_type": "code",
      "metadata": {
        "id": "dSyB2crO7w6e"
      },
      "source": [
        ""
      ],
      "execution_count": null,
      "outputs": []
    },
    {
      "cell_type": "markdown",
      "metadata": {
        "id": "IAKbtogE7w6g"
      },
      "source": [
        "### 練習問題 2-1\n",
        "print文の連結機能を使って、文字列'Hello'と'World'を連結させて表示しなさい。ただし、文字列の間にはスペースが入ること。"
      ]
    },
    {
      "cell_type": "code",
      "metadata": {
        "id": "LhH4_jPL7w6h"
      },
      "source": [
        ""
      ],
      "execution_count": null,
      "outputs": []
    },
    {
      "cell_type": "markdown",
      "metadata": {
        "id": "dhbBOqHy7w6j"
      },
      "source": [
        "<img width=\"40%\" src=\"https://storage.googleapis.com/python-practice/img/1-3.png\">  \n",
        "カンマで連結すると、文字列の間にスペースが入りました。今度はスペースなしで連結させてみましょう。スペースなしで連結させる場合、カンマではなく**`プラス`**で連結します。"
      ]
    },
    {
      "cell_type": "markdown",
      "metadata": {
        "id": "2CIJolsF7w6j"
      },
      "source": [
        "### 入力例   \n",
        "```python\n",
        "print('com'+ 'puter')\n",
        "```"
      ]
    },
    {
      "cell_type": "code",
      "metadata": {
        "id": "m8nHzOo57w6k"
      },
      "source": [
        ""
      ],
      "execution_count": null,
      "outputs": []
    },
    {
      "cell_type": "markdown",
      "metadata": {
        "id": "uWvqPsQ57w6n"
      },
      "source": [
        "### 練習問題 2-2\n",
        "print文の連結機能を使って、文字列'inter'と'net'を連結させて表示しなさい。ただし、文字列の間にはスペースが入らないこと。"
      ]
    },
    {
      "cell_type": "code",
      "metadata": {
        "id": "bkwieHKj7w6n"
      },
      "source": [
        ""
      ],
      "execution_count": null,
      "outputs": []
    },
    {
      "cell_type": "markdown",
      "metadata": {
        "id": "zH6uKckr7w6q"
      },
      "source": [
        "## 3. 文字列を分割する（split）"
      ]
    },
    {
      "cell_type": "markdown",
      "metadata": {
        "id": "LNFmlKSB7w6q"
      },
      "source": [
        "今度は文字列を分割してみましょう。**`メソッド（method）`**という新しい機能を使います。まずは入力例をそのまま入力して実行してみましょう。"
      ]
    },
    {
      "cell_type": "markdown",
      "metadata": {
        "id": "BPeaf3-97w6q"
      },
      "source": [
        "### 入力例   \n",
        "print('Toyama-ken'.split('-'))"
      ]
    },
    {
      "cell_type": "code",
      "metadata": {
        "id": "vFnEgAUB7w6r"
      },
      "source": [
        ""
      ],
      "execution_count": null,
      "outputs": []
    },
    {
      "cell_type": "markdown",
      "metadata": {
        "id": "5IwqVPh07w6t"
      },
      "source": [
        "今回、文字列'Toyama-ken'の後ろに**`.split()`**が登場しました。これは**`メソッド`**というもので、命令文に機能をプラスするものです。   \n",
        "メソッドは必ずドットから始まり、そのあとにメソッド名を入力します。メソッド名のあとには丸括弧が続きます。   \n",
        "\n",
        "\n",
        "<img width=\"50%\" src=\"https://storage.googleapis.com/python-practice/img/1-4.png\"> \n",
        "\n",
        "分割のsplitの場合は以下のようになります。丸括弧の中には分割の目印にしたい文字を入力します。文字なのでシングルコーテーションで囲みましょう。分割の目印になる文字を、**`セパレーター`**と言います。"
      ]
    },
    {
      "cell_type": "markdown",
      "metadata": {
        "id": "FndzXody7w6t"
      },
      "source": [
        "### 練習問題 3-1\n",
        "printの分割機能を使って、文字列'Toyama-city'を'-'で分割して表示しなさい。"
      ]
    },
    {
      "cell_type": "code",
      "metadata": {
        "id": "lW_OCjhh7w6u"
      },
      "source": [
        ""
      ],
      "execution_count": null,
      "outputs": []
    },
    {
      "cell_type": "markdown",
      "metadata": {
        "id": "wn2OklBO7w6w"
      },
      "source": [
        "### 練習問題 3-2\n",
        "printの分割機能を使って、文字列'Toyama,Japan'をカンマで分割して表示しなさい。"
      ]
    },
    {
      "cell_type": "code",
      "metadata": {
        "id": "fBDFhPif7w6w"
      },
      "source": [
        ""
      ],
      "execution_count": null,
      "outputs": []
    },
    {
      "cell_type": "markdown",
      "metadata": {
        "id": "9-FdQEHk7w60"
      },
      "source": [
        "### 練習問題 3-3\n",
        "printの分割機能を使って、文字列'Toyama Internatinal High School'をスペースで分割して表示しなさい。"
      ]
    },
    {
      "cell_type": "code",
      "metadata": {
        "id": "HMm2Uh1P7w61"
      },
      "source": [
        ""
      ],
      "execution_count": null,
      "outputs": []
    },
    {
      "cell_type": "markdown",
      "metadata": {
        "id": "Wc5Zl8on7w63"
      },
      "source": [
        "## 4. 文字列を置き換える（replace）"
      ]
    },
    {
      "cell_type": "markdown",
      "metadata": {
        "id": "9mQbLxdy7w63"
      },
      "source": [
        "メソッドの**`replace`**は、ある文字列を異なる文字列に置き換えることができます。異なるものに置き換えることを**`置換（ちかん）`**といいます。下記の入力例では、JapanをWorldに置き換えて表示しています。"
      ]
    },
    {
      "cell_type": "markdown",
      "metadata": {
        "id": "1SHS0k2F7w63"
      },
      "source": [
        "### 入力例   \n",
        "print('Hello Japan'.replace('Japan', 'World'))"
      ]
    },
    {
      "cell_type": "markdown",
      "metadata": {
        "id": "2uIAD6ev7w64"
      },
      "source": [
        ""
      ]
    },
    {
      "cell_type": "markdown",
      "metadata": {
        "id": "uv8FAUhM7w64"
      },
      "source": [
        "<img width=\"60%\" src=\"https://storage.googleapis.com/python-practice/img/1-5.png\"> \n",
        "\n",
        "メソッドreplaceの丸括弧内では、「置き換え前」と「置き換え後」の２つを指定する必要があります。間はカンマで区切ります。"
      ]
    },
    {
      "cell_type": "markdown",
      "metadata": {
        "id": "TOEbIkEp7w64"
      },
      "source": [
        "### 練習問題 4-1\n",
        "print文の置換を使って、メールアドレス'username@tuins-h.ed.jp'の@より前の部分を'taro'に置き換えてメールアドレスを作成しなさい。"
      ]
    },
    {
      "cell_type": "code",
      "metadata": {
        "id": "pYAu6eZC7w65"
      },
      "source": [
        ""
      ],
      "execution_count": null,
      "outputs": []
    },
    {
      "cell_type": "markdown",
      "metadata": {
        "id": "joEvxROr7w67"
      },
      "source": [
        "### 練習問題 4-2\n",
        "置換を使って、文字列'My brother goes to Kokusai High School.'の'brother'を'sister'に置き換えなさい。"
      ]
    },
    {
      "cell_type": "code",
      "metadata": {
        "id": "55LqZrQU7w67"
      },
      "source": [
        ""
      ],
      "execution_count": null,
      "outputs": []
    },
    {
      "cell_type": "markdown",
      "metadata": {
        "id": "4usdg7o27w69"
      },
      "source": [
        "## 5. 文字列を大文字、小文字にする（upper, lower）"
      ]
    },
    {
      "cell_type": "markdown",
      "metadata": {
        "id": "rbegHHjy7w69"
      },
      "source": [
        "アルファベットは日本語と違い、大文字と小文字があります。人名やJapanなど固有名詞の場合、最初の文字は大文字になります。メソッドを使うと全て大文字にしたり、小文字にしたりして表示できます。**`upper`**が大文字、**`lower`**が小文字になります。丸カッコの中には何も入りませんが、メソッドは必ず（）をつけます。\n",
        "\n",
        "<img width=\"50%\" src=\"https://storage.googleapis.com/python-practice/img/1-6.png\"> \n",
        "\n",
        "<img width=\"50%\" src=\"https://storage.googleapis.com/python-practice/img/1-7.png\"> \n"
      ]
    },
    {
      "cell_type": "markdown",
      "metadata": {
        "id": "JH-LzB8P7w6-"
      },
      "source": [
        "### 入力例\n",
        "print ('Hello World'.upper())   \n",
        "print ('Hello World'.lower())"
      ]
    },
    {
      "cell_type": "code",
      "metadata": {
        "id": "Mc-DjM177w6-"
      },
      "source": [
        ""
      ],
      "execution_count": null,
      "outputs": []
    },
    {
      "cell_type": "markdown",
      "metadata": {
        "id": "3G3ltXId7w7A"
      },
      "source": [
        "### 練習問題 5-1\n",
        "printを使って、文字列”TOYAMA-CITY, GANKAIJI-MIZUKUCHI 444”を”全て大文字に変換して表示させない。また、全て小文字に変換したものも表示させなさい。ただし、メソッドupperまたはlowerを使うこと。"
      ]
    },
    {
      "cell_type": "code",
      "metadata": {
        "id": "DII7VJ9Q7w7B"
      },
      "source": [
        ""
      ],
      "execution_count": null,
      "outputs": []
    },
    {
      "cell_type": "markdown",
      "metadata": {
        "id": "LdG883zW7w7D"
      },
      "source": [
        "### 練習問題 5-2\n",
        "printを使って、文字列”TOYAMA-CITY, GANKAIJI-MIZUKUCHI 444”を”全て大文字に変換して表示させない。また、全て小文字に変換したものも表示させなさい。ただし、メソッドを使うこと。"
      ]
    },
    {
      "cell_type": "code",
      "metadata": {
        "id": "GY6PNfDC7w7E"
      },
      "source": [
        ""
      ],
      "execution_count": null,
      "outputs": []
    },
    {
      "cell_type": "markdown",
      "metadata": {
        "id": "uSxEmMUs7w7G"
      },
      "source": [
        "## 6. 文字列の長さを調べる（len）"
      ]
    },
    {
      "cell_type": "markdown",
      "metadata": {
        "id": "BWFszqOZ7w7G"
      },
      "source": [
        "<img width=\"60%\" src=\"https://storage.googleapis.com/python-practice/img/1-8.png\"> \n",
        "\n",
        "一文が何文字か調べるメソッドが**`len`**です。長さのlengthを短くしてlenになっています。"
      ]
    },
    {
      "cell_type": "markdown",
      "metadata": {
        "id": "lEUc7p5i7w7H"
      },
      "source": [
        "### 入力例\n",
        "print (len('I think, therefore I am.'))   "
      ]
    },
    {
      "cell_type": "code",
      "metadata": {
        "id": "IAsOo1vH7w7H"
      },
      "source": [
        ""
      ],
      "execution_count": null,
      "outputs": []
    },
    {
      "cell_type": "markdown",
      "metadata": {
        "id": "9XeBOVxI7w7J"
      },
      "source": [
        "### 練習問題 6-1\n",
        "文字列”TOYAMA-CITY, GANKAIJI-MIZUKUCHI 444”の文字数をカウントし、print文で出力しなさい。ただし、メソッドを使うこと。"
      ]
    },
    {
      "cell_type": "code",
      "metadata": {
        "id": "bEiFQQas7w7J"
      },
      "source": [
        ""
      ],
      "execution_count": null,
      "outputs": []
    },
    {
      "cell_type": "markdown",
      "metadata": {
        "id": "Ly_ZWx187w7L"
      },
      "source": [
        "## 7. 練習問題"
      ]
    },
    {
      "cell_type": "markdown",
      "metadata": {
        "id": "xJFR-yDu7w7L"
      },
      "source": [
        "### 練習問題 7-1   \n",
        "文字列\"Stay hungry. Stay foolish.\"を出力しなさい。"
      ]
    },
    {
      "cell_type": "code",
      "metadata": {
        "id": "8LTFfHAT7w7M"
      },
      "source": [
        ""
      ],
      "execution_count": null,
      "outputs": []
    },
    {
      "cell_type": "markdown",
      "metadata": {
        "id": "0KApkDBS7w7O"
      },
      "source": [
        "### 練習問題 7-2   \n",
        "文字列\"Gankaiji Mizukuchi\", \"444\", \"Toyama City\", \"Toyama\"をスペースをつけて連結し、出力しなさい。"
      ]
    },
    {
      "cell_type": "code",
      "metadata": {
        "id": "Pt4tVy0X7w7O"
      },
      "source": [
        ""
      ],
      "execution_count": null,
      "outputs": []
    },
    {
      "cell_type": "markdown",
      "metadata": {
        "id": "OHdxU8Ns7w7S"
      },
      "source": [
        "### 練習問題 7-3   \n",
        "文字列\"076\", \"434\", \"0577\"をスペースをつけずに連結し、出力しなさい。"
      ]
    },
    {
      "cell_type": "code",
      "metadata": {
        "id": "FOlf6uVn7w7S"
      },
      "source": [
        ""
      ],
      "execution_count": null,
      "outputs": []
    },
    {
      "cell_type": "markdown",
      "metadata": {
        "id": "U7C8mtzN7w7U"
      },
      "source": [
        "### 練習問題 7-4   \n",
        "IPアドレス\"192.168.100.110\"をドットで区切って、４つのセグメンテーションを出力しなさい。"
      ]
    },
    {
      "cell_type": "code",
      "metadata": {
        "id": "SG-MqmDA7w7V"
      },
      "source": [
        ""
      ],
      "execution_count": null,
      "outputs": []
    },
    {
      "cell_type": "markdown",
      "metadata": {
        "id": "sNeawhCd7w7X"
      },
      "source": [
        "### 練習問題 7-5   \n",
        "文字列\"He is from Japan.\"の\"Japan\"を\"America\"に置換して、出力しなさい。"
      ]
    },
    {
      "cell_type": "code",
      "metadata": {
        "id": "-xIYavGN7w7X"
      },
      "source": [
        ""
      ],
      "execution_count": null,
      "outputs": []
    },
    {
      "cell_type": "markdown",
      "metadata": {
        "id": "sJBWoOk77w7Z"
      },
      "source": [
        "### 練習問題 7-6   \n",
        "文字列\"Tateyama\"をメソッドを使って全て大文字で出力しなさい。"
      ]
    },
    {
      "cell_type": "code",
      "metadata": {
        "id": "CoNeHMMu7w7a"
      },
      "source": [
        ""
      ],
      "execution_count": null,
      "outputs": []
    },
    {
      "cell_type": "markdown",
      "metadata": {
        "id": "YpPuV7gd7w7b"
      },
      "source": [
        "### 練習問題 7-7   \n",
        "文字列\"JAPAN\"をメソッドを使って全て小文字で出力しなさい。"
      ]
    },
    {
      "cell_type": "code",
      "metadata": {
        "id": "pLjs7KXf7w7c"
      },
      "source": [
        ""
      ],
      "execution_count": null,
      "outputs": []
    },
    {
      "cell_type": "markdown",
      "metadata": {
        "id": "AcHJx2yj7w7e"
      },
      "source": [
        "### 練習問題 7-8   \n",
        "文字列\"ABCDEFGHIJKLMN\"が何文字あるかメソッドを使って調べ、文字数を出力しなさい。"
      ]
    },
    {
      "cell_type": "code",
      "metadata": {
        "id": "VpkZXGgN7w7e"
      },
      "source": [
        ""
      ],
      "execution_count": null,
      "outputs": []
    },
    {
      "cell_type": "markdown",
      "metadata": {
        "id": "QzBstDMn7w7g"
      },
      "source": [
        "<hr>\n",
        "&#64; 2020 Tomohiko Hashimoto, Ruri Nagata"
      ]
    }
  ]
}